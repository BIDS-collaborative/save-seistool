{
 "cells": [
  {
   "cell_type": "code",
   "execution_count": 1,
   "metadata": {
    "collapsed": true
   },
   "outputs": [],
   "source": [
    "import glob\n",
    "from obspy.core import read"
   ]
  },
  {
   "cell_type": "code",
   "execution_count": 15,
   "metadata": {
    "collapsed": true
   },
   "outputs": [],
   "source": [
    "singlechannel = read(\"/Users/Proxima/Documents/classes/Fall2015/hacking-measurement/save-seistool/5_trace.mseed\")"
   ]
  },
  {
   "cell_type": "code",
   "execution_count": 16,
   "metadata": {
    "collapsed": false
   },
   "outputs": [
    {
     "name": "stdout",
     "output_type": "stream",
     "text": [
      "5 Trace(s) in Stream:\n",
      "BK.BDM.00.LHE | 2015-09-16T22:54:31.069536Z - 2015-09-17T00:54:30.069536Z | 1.0 Hz, 7200 samples\n",
      "BK.BDM.00.LHN | 2015-09-16T22:54:31.069538Z - 2015-09-17T00:54:30.069538Z | 1.0 Hz, 7200 samples\n",
      "BK.BDM.00.LHZ | 2015-09-16T22:54:31.069536Z - 2015-09-17T00:54:30.069536Z | 1.0 Hz, 7200 samples\n",
      "BK.BKS.00.LHE | 2015-09-16T22:54:31.069538Z - 2015-09-17T00:54:30.069538Z | 1.0 Hz, 7200 samples\n",
      "BK.BKS.00.LHN | 2015-09-16T22:54:31.069538Z - 2015-09-17T00:54:30.069538Z | 1.0 Hz, 7200 samples\n"
     ]
    }
   ],
   "source": [
    "print(singlechannel)"
   ]
  },
  {
   "cell_type": "code",
   "execution_count": 17,
   "metadata": {
    "collapsed": true
   },
   "outputs": [],
   "source": [
    "singlechannel.plot()"
   ]
  },
  {
   "cell_type": "code",
   "execution_count": 24,
   "metadata": {
    "collapsed": true
   },
   "outputs": [],
   "source": [
    "from bokeh.plotting import figure, output_file, show, vplot\n",
    "x1 = list(range(0,7200))\n",
    "y1 = singlechannel[0].data\n",
    "\n",
    "x2 = list(range(0,7200))\n",
    "y2 = singlechannel[1].data\n",
    "\n",
    "x3 = list(range(0,7200))\n",
    "y3 = singlechannel[2].data\n",
    "\n",
    "x4 = list(range(0,7200))\n",
    "y4 = singlechannel[3].data\n",
    "\n",
    "x5 = list(range(0,7200))\n",
    "y5 = singlechannel[4].data"
   ]
  },
  {
   "cell_type": "code",
   "execution_count": 27,
   "metadata": {
    "collapsed": false
   },
   "outputs": [],
   "source": [
    "output_file(\"lines.html\",title=\"line plot of seismic data\")\n",
    "# create a new plot with a title and axis labels\n",
    "p1 = figure(title=\"Seismic trace plot 1\", x_axis_label='x', y_axis_label='y', plot_width=800, plot_height=300)\n",
    "p2 = figure(title=\"Seismic trace plot 2\", x_axis_label='x', y_axis_label='y', plot_width=800, plot_height=300)\n",
    "p3 = figure(title=\"Seismic trace plot 3\", x_axis_label='x', y_axis_label='y', plot_width=800, plot_height=300)\n",
    "p4 = figure(title=\"Seismic trace plot 4\", x_axis_label='x', y_axis_label='y', plot_width=800, plot_height=300)\n",
    "p5 = figure(title=\"Seismic trace plot 5\", x_axis_label='x', y_axis_label='y', plot_width=800, plot_height=300)\n",
    "\n",
    "# add a line renderer with legend and line thickness\n",
    "p1.line(x1, y1, legend=\"Trace 1\", line_width=0.2, line_color=\"red\")\n",
    "p2.line(x2, y2, legend=\"Trace 2\", line_width=0.2, line_color = \"green\")\n",
    "p3.line(x3, y3, legend=\"Trace 3\", line_width=0.2, line_color = \"black\")\n",
    "p4.line(x4, y4, legend=\"Trace 4\", line_width=0.2, line_color = \"orange\")\n",
    "p5.line(x5, y5, legend=\"Trace 5\", line_width=0.2)\n",
    "\n",
    "# Put all figures in a vplot\n",
    "p = vplot(p1,p2,p3,p4,p5)\n",
    "# show the results\n",
    "show(p)\n"
   ]
  },
  {
   "cell_type": "code",
   "execution_count": null,
   "metadata": {
    "collapsed": true
   },
   "outputs": [],
   "source": []
  }
 ],
 "metadata": {
  "kernelspec": {
   "display_name": "Python 3",
   "language": "python",
   "name": "python3"
  },
  "language_info": {
   "codemirror_mode": {
    "name": "ipython",
    "version": 3
   },
   "file_extension": ".py",
   "mimetype": "text/x-python",
   "name": "python",
   "nbconvert_exporter": "python",
   "pygments_lexer": "ipython3",
   "version": "3.4.3"
  }
 },
 "nbformat": 4,
 "nbformat_minor": 0
}
