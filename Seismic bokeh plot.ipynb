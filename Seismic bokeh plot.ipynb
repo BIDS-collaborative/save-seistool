{
 "cells": [
  {
   "cell_type": "code",
   "execution_count": 7,
   "metadata": {
    "collapsed": true
   },
   "outputs": [],
   "source": [
    "import glob\n",
    "from obspy.core import read"
   ]
  },
  {
   "cell_type": "code",
   "execution_count": 8,
   "metadata": {
    "collapsed": true
   },
   "outputs": [],
   "source": [
    "singlechannel = read(\"./5_trace.mseed\")"
   ]
  },
  {
   "cell_type": "code",
   "execution_count": 3,
   "metadata": {
    "collapsed": false
   },
   "outputs": [
    {
     "name": "stdout",
     "output_type": "stream",
     "text": [
      "5 Trace(s) in Stream:\n",
      "BK.BDM.00.LHE | 2015-09-16T22:54:31.069536Z - 2015-09-17T00:54:30.069536Z | 1.0 Hz, 7200 samples\n",
      "BK.BDM.00.LHN | 2015-09-16T22:54:31.069538Z - 2015-09-17T00:54:30.069538Z | 1.0 Hz, 7200 samples\n",
      "BK.BDM.00.LHZ | 2015-09-16T22:54:31.069536Z - 2015-09-17T00:54:30.069536Z | 1.0 Hz, 7200 samples\n",
      "BK.BKS.00.LHE | 2015-09-16T22:54:31.069538Z - 2015-09-17T00:54:30.069538Z | 1.0 Hz, 7200 samples\n",
      "BK.BKS.00.LHN | 2015-09-16T22:54:31.069538Z - 2015-09-17T00:54:30.069538Z | 1.0 Hz, 7200 samples\n"
     ]
    }
   ],
   "source": [
    "print(singlechannel)"
   ]
  },
  {
   "cell_type": "code",
   "execution_count": 4,
   "metadata": {
    "collapsed": true
   },
   "outputs": [],
   "source": [
    "# singlechannel.plot()"
   ]
  },
  {
   "cell_type": "code",
   "execution_count": 9,
   "metadata": {
    "collapsed": false
   },
   "outputs": [],
   "source": [
    "from bokeh.plotting import figure, output_file, show, vplot, hplot\n",
    "from bokeh.models import CustomJS, ColumnDataSource\n",
    "\n",
    "x1 = list(range(0,7200))\n",
    "y1 = singlechannel[0].data\n",
    "\n",
    "x2 = list(range(0,7200))\n",
    "y2 = singlechannel[1].data\n",
    "\n",
    "x3 = list(range(0,7200))\n",
    "y3 = singlechannel[2].data\n",
    "\n",
    "x4 = list(range(0,7200))\n",
    "y4 = singlechannel[3].data\n",
    "\n",
    "x5 = list(range(0,7200))\n",
    "y5 = singlechannel[4].data"
   ]
  },
  {
   "cell_type": "code",
   "execution_count": 27,
   "metadata": {
    "collapsed": false
   },
   "outputs": [],
   "source": [
    "# output file\n",
    "output_file(\"lines.html\",title=\"line plot of seismic data\")"
   ]
  },
  {
   "cell_type": "code",
   "execution_count": 35,
   "metadata": {
    "collapsed": false
   },
   "outputs": [
    {
     "data": {
      "text/plain": [
       "<bokeh.models.renderers.GlyphRenderer at 0x10ef98cf8>"
      ]
     },
     "execution_count": 35,
     "metadata": {},
     "output_type": "execute_result"
    }
   ],
   "source": [
    "# plot 1\n",
    "s1 = ColumnDataSource(data=dict(x=x1,y=y1))\n",
    "p1 = figure(title=\"Seismic trace plot 1 select\", plot_width=600, plot_height=300\n",
    "            ,tools = \"box_select\")\n",
    "# draw two plots - scatter plot and line plot\n",
    "p1.circle('x','y',source=s1,alpha=0,fill_color=\"white\")\n",
    "p1.line('x','y',source=s1, line_width=0.2, line_color=\"red\",alpha=0.6)"
   ]
  },
  {
   "cell_type": "code",
   "execution_count": 55,
   "metadata": {
    "collapsed": false
   },
   "outputs": [
    {
     "data": {
      "text/plain": [
       "<bokeh.models.renderers.GlyphRenderer at 0x10f395198>"
      ]
     },
     "execution_count": 55,
     "metadata": {},
     "output_type": "execute_result"
    }
   ],
   "source": [
    "# create a plot where the selection is shown\n",
    "s1_watch = ColumnDataSource(data=dict(x=[],y=[]))\n",
    "s2_watch = ColumnDataSource(data=dict(x=[],y=[]))\n",
    "p1_watch = figure(title=\"Seismic trace plot 1 watch\", plot_width=600, plot_height=1200)\n",
    "p1_watch.line('x','y',source=s1_watch, line_width=0.2,line_color=\"black\")\n",
    "p1_watch.line('x','y',source=s2_watch, line_width=0.2,line_color=\"red\")"
   ]
  },
  {
   "cell_type": "code",
   "execution_count": 56,
   "metadata": {
    "collapsed": true
   },
   "outputs": [],
   "source": [
    "#JS callback to draw\n",
    "s1.callback = CustomJS(args=dict(s1_watch=s1_watch), code=\"\"\"\n",
    "    inds = cb_obj.get('selected')['1d'].indices;\n",
    "    console.log(cb_obj)\n",
    "    d1 = cb_obj.get('data');\n",
    "    d2 = s1_watch.get('data');\n",
    "    d2['x'] = []\n",
    "    d2['y'] = []\n",
    "    d3 = []\n",
    "    // Change to int\n",
    "    for (i=0; i<inds.length;i++) {\n",
    "    d3.push(parseInt(d1['x'][inds[i]]))\n",
    "    }\n",
    "    d3.sort(function(a, b){return a-b});\n",
    "    for (i=0;i<d3.length;i++) {\n",
    "    \n",
    "        pos = d1['x'].indexOf(d3[i])\n",
    "        d2['y'].push(parseInt(d1['y'][pos]))\n",
    "        d2['x'].push(parseInt(d1['x'][pos]))\n",
    "    }\n",
    "    s1_watch.trigger('change');\n",
    "\"\"\")"
   ]
  },
  {
   "cell_type": "code",
   "execution_count": 57,
   "metadata": {
    "collapsed": false
   },
   "outputs": [
    {
     "data": {
      "text/plain": [
       "<bokeh.models.renderers.GlyphRenderer at 0x10f395940>"
      ]
     },
     "execution_count": 57,
     "metadata": {},
     "output_type": "execute_result"
    }
   ],
   "source": [
    "# plot 2\n",
    "s2 = ColumnDataSource(data=dict(x=x2,y=y2))\n",
    "p2 = figure(title=\"Seismic trace plot 2 select\", plot_width=600, plot_height=300\n",
    "           ,tools = \"box_select\")\n",
    "# two plots - scatter and line\n",
    "p2.circle('x','y',source=s2,alpha=0,line_color=\"white\",fill_color=\"white\")\n",
    "p2.line(x2, y2, legend=\"Trace 2\", line_width=0.2, line_color = \"green\")"
   ]
  },
  {
   "cell_type": "code",
   "execution_count": 58,
   "metadata": {
    "collapsed": true
   },
   "outputs": [],
   "source": [
    "# try to call JS into the same plot window as before\n",
    "s2.callback = CustomJS(args=dict(s2_watch=s2_watch), code= \"\"\"\n",
    "    var inds = cb_obj.get('selected')['1d'].indices;\n",
    "    var d1 = cb_obj.get('data');\n",
    "    var d2 = s2_watch.get('data');\n",
    "    d2['x'] = []\n",
    "    d2['y'] = []\n",
    "    d3 = []\n",
    "    // Change to int\n",
    "    for (i=0; i<inds.length;i++) {\n",
    "    d3.push(parseInt(d1['x'][inds[i]]))\n",
    "    }\n",
    "    d3.sort(function(a, b){return a-b});\n",
    "    for (i=0; i<d3.length;i++) {\n",
    "        pos = d1['x'].indexOf(d3[i])\n",
    "        d2['y'].push(parseInt(d1['y'][pos]))\n",
    "        d2['x'].push(parseInt(d1['x'][pos]))\n",
    "    }\n",
    "    s2_watch.trigger('change');\n",
    "\"\"\")"
   ]
  },
  {
   "cell_type": "code",
   "execution_count": 63,
   "metadata": {
    "collapsed": true
   },
   "outputs": [],
   "source": [
    "layout = vplot(p1,p2)\n",
    "p = hplot(layout,p1_watch)"
   ]
  },
  {
   "cell_type": "code",
   "execution_count": 64,
   "metadata": {
    "collapsed": true
   },
   "outputs": [],
   "source": [
    "# show results\n",
    "show(p)"
   ]
  },
  {
   "cell_type": "code",
   "execution_count": null,
   "metadata": {
    "collapsed": true
   },
   "outputs": [],
   "source": []
  }
 ],
 "metadata": {
  "kernelspec": {
   "display_name": "Python 3",
   "language": "python",
   "name": "python3"
  },
  "language_info": {
   "codemirror_mode": {
    "name": "ipython",
    "version": 3
   },
   "file_extension": ".py",
   "mimetype": "text/x-python",
   "name": "python",
   "nbconvert_exporter": "python",
   "pygments_lexer": "ipython3",
   "version": "3.4.3"
  }
 },
 "nbformat": 4,
 "nbformat_minor": 0
}
